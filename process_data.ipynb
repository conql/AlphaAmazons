{
 "cells": [
  {
   "cell_type": "code",
   "execution_count": 14,
   "metadata": {},
   "outputs": [],
   "source": [
    "from game import Chessboard\n",
    "import hashlib\n",
    "import game\n",
    "from tqdm import tqdm\n",
    "import json\n",
    "import traceback\n",
    "from glob import glob\n",
    "import pickle"
   ]
  },
  {
   "cell_type": "code",
   "execution_count": 2,
   "metadata": {},
   "outputs": [],
   "source": [
    "# Load expert list\n",
    "with open(\"experts.txt\", \"r\") as f:\n",
    "    expert_ids = f.readlines()\n",
    "    expert_ids = set(map(lambda x: x.strip(), expert_ids))"
   ]
  },
  {
   "cell_type": "code",
   "execution_count": 6,
   "metadata": {},
   "outputs": [],
   "source": [
    "# match: (board, move, value)\n",
    "def process_match(match, all_matches: dict):\n",
    "    chessboard = Chessboard()\n",
    "    player_ids = (match[\"players\"][0][\"bot\"], match[\"players\"][1][\"bot\"])\n",
    "\n",
    "    last_round = match[\"log\"][-2]\n",
    "    winner = int(next(iter(last_round.keys())))\n",
    "    both_experts = player_ids[0] in expert_ids and player_ids[1] in expert_ids\n",
    "\n",
    "    for i, round in enumerate(match[\"log\"]):\n",
    "        player, round_value = next(iter(round.items()))\n",
    "\n",
    "        # Filter out system log\n",
    "        if player != \"0\" and player != \"1\":\n",
    "            continue\n",
    "\n",
    "        player = int(player)\n",
    "        res = round_value[\"response\"]\n",
    "        move = [res[\"x0\"], res[\"y0\"], res[\"x1\"], res[\"y1\"], res[\"x2\"], res[\"y2\"]]\n",
    "\n",
    "        # Save only expert rounds\n",
    "        if player_ids[player] in expert_ids:\n",
    "            # if this is the last round, check whether the move is correct\n",
    "            if i == len(match[\"log\"]) - 2 and not game.is_valid_act(\n",
    "                chessboard.board, player + 1, *move\n",
    "            ):\n",
    "                raise Exception(\"Invalid move\")\n",
    "\n",
    "            key = hashlib.md5(chessboard.board.tobytes()).hexdigest()\n",
    "            value = 0\n",
    "            if both_experts:\n",
    "                value = 1 if player == winner else -1\n",
    "\n",
    "            if key not in all_matches:\n",
    "                all_matches[key] = (chessboard.board.copy(), move, value)\n",
    "\n",
    "        chessboard.act(\" \".join(map(str, move)))"
   ]
  },
  {
   "cell_type": "code",
   "execution_count": 11,
   "metadata": {},
   "outputs": [
    {
     "name": "stderr",
     "output_type": "stream",
     "text": [
      "100%|██████████| 39487/39487 [00:30<00:00, 1287.46match/s]\n"
     ]
    }
   ],
   "source": [
    "all_matches = dict()\n",
    "# Process data\n",
    "with open(\"data/raw/extracted/output/expert_matches.txt\", \"r\") as f:\n",
    "    matches = f.readlines()\n",
    "    error_count = 0\n",
    "    for i, match_str in enumerate(tqdm(matches, unit=\"match\"), 1):\n",
    "        try:\n",
    "            process_match(json.loads(match_str), all_matches)\n",
    "        except Exception as e:\n",
    "            # tqdm.write(f\"Error processing match {i}\")\n",
    "            # traceback.print_exception(type(e), e, e.__traceback__)\n",
    "            error_count += 1\n",
    "            continue\n",
    "print(f\"Total matches: {len(all_matches)}\")\n",
    "print(f\"Erorr matches: {error_count}\")"
   ]
  },
  {
   "cell_type": "code",
   "execution_count": 15,
   "metadata": {},
   "outputs": [
    {
     "name": "stderr",
     "output_type": "stream",
     "text": [
      "100%|██████████| 5/5 [00:02<00:00,  2.35file/s]\n"
     ]
    }
   ],
   "source": [
    "# Load existing data\n",
    "init_input_paths = glob(\"data/init/*.pickle\", recursive=False)\n",
    "init_inputs = {}\n",
    "for path in tqdm(init_input_paths, unit=\"file\"):\n",
    "    init_inputs = {**init_inputs, **pickle.load(open(path, \"rb\"))}"
   ]
  },
  {
   "cell_type": "code",
   "execution_count": 18,
   "metadata": {},
   "outputs": [
    {
     "name": "stderr",
     "output_type": "stream",
     "text": [
      "100%|██████████| 477310/477310 [00:11<00:00, 42144.46match/s]"
     ]
    },
    {
     "name": "stdout",
     "output_type": "stream",
     "text": [
      "Load: 477310\n",
      "Wrong: 0\n"
     ]
    },
    {
     "name": "stderr",
     "output_type": "stream",
     "text": [
      "\n"
     ]
    }
   ],
   "source": [
    "# Merge data\n",
    "wrong = 0\n",
    "for key, value in tqdm(init_inputs.items(), unit=\"match\"):\n",
    "    (board, answer) = value\n",
    "    # check answer is correct\n",
    "    if not game.is_valid_act(board, board[answer[1],answer[0]], *answer):\n",
    "        print(\"Invalid answer\")\n",
    "        wrong += 1\n",
    "        continue\n",
    "    else:\n",
    "        key = hashlib.md5(board.tobytes()).hexdigest()\n",
    "        all_matches[key] = (board, answer, 0)\n",
    "\n",
    "print(f\"Load: {len(init_inputs)}\")\n",
    "print(f\"Wrong: {wrong}\")"
   ]
  },
  {
   "cell_type": "code",
   "execution_count": 19,
   "metadata": {},
   "outputs": [
    {
     "name": "stdout",
     "output_type": "stream",
     "text": [
      "Total matches: 790951\n",
      "Erorr matches: 9623\n",
      "Matches with value: 37647\n"
     ]
    }
   ],
   "source": [
    "# Statistics for all matches\n",
    "total = len(all_matches)\n",
    "has_value = len(list(filter(lambda x: x[2] != 0, all_matches.values())))\n",
    "print(f\"Total matches: {total}\")\n",
    "print(f\"Matches with value: {has_value}\")"
   ]
  },
  {
   "cell_type": "code",
   "execution_count": 20,
   "metadata": {},
   "outputs": [
    {
     "ename": "",
     "evalue": "",
     "output_type": "error",
     "traceback": [
      "\u001b[1;31m在当前单元格或上一个单元格中执行代码时 Kernel 崩溃。请查看单元格中的代码，以确定故障的可能原因。有关详细信息，请单击 <a href='https://aka.ms/vscodeJupyterKernelCrash'>此处</a>。有关更多详细信息，请查看 Jupyter <a href='command:jupyter.viewOutput'>log</a>。"
     ]
    }
   ],
   "source": [
    "# Save data\n",
    "pickle.dump(all_matches, open(\"data/all_matches.pickle\", \"wb\"))"
   ]
  },
  {
   "cell_type": "code",
   "execution_count": null,
   "metadata": {},
   "outputs": [],
   "source": [
    "# Data augmentation"
   ]
  }
 ],
 "metadata": {
  "kernelspec": {
   "display_name": "Python 3",
   "language": "python",
   "name": "python3"
  },
  "language_info": {
   "codemirror_mode": {
    "name": "ipython",
    "version": 3
   },
   "file_extension": ".py",
   "mimetype": "text/x-python",
   "name": "python",
   "nbconvert_exporter": "python",
   "pygments_lexer": "ipython3",
   "version": "3.11.2"
  },
  "orig_nbformat": 4
 },
 "nbformat": 4,
 "nbformat_minor": 2
}
